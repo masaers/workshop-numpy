{
  "nbformat": 4,
  "nbformat_minor": 0,
  "metadata": {
    "colab": {
      "provenance": [],
      "authorship_tag": "ABX9TyMAd7xXWVwR06sgEbos43+m",
      "include_colab_link": true
    },
    "kernelspec": {
      "name": "python3",
      "display_name": "Python 3"
    },
    "language_info": {
      "name": "python"
    }
  },
  "cells": [
    {
      "cell_type": "markdown",
      "metadata": {
        "id": "view-in-github",
        "colab_type": "text"
      },
      "source": [
        "<a href=\"https://colab.research.google.com/github/masaers/workshop-numpy/blob/main/mandelbrot.ipynb\" target=\"_parent\"><img src=\"https://colab.research.google.com/assets/colab-badge.svg\" alt=\"Open In Colab\"/></a>"
      ]
    },
    {
      "cell_type": "code",
      "execution_count": null,
      "metadata": {
        "id": "tpNVo6dru_5F"
      },
      "outputs": [],
      "source": [
        "import numpy as np\n",
        "import matplotlib.pyplot as plt"
      ]
    },
    {
      "cell_type": "markdown",
      "source": [
        "## Rendering the Mandelbrot set\n",
        "\n",
        "Below is an implementation of the naïve escape time rendering algorithm.\n",
        "\n",
        "Each pixel in the resulting image correspond to a complex number with a real component on the x-axis and an imaginary component on the y-axis. Starting at the origin (`z[0] = 0`), each iteration moves `z` such that `z[i+1] = z[i]^2 + c` where `c` is the complex number corresponding to the current pixel. If `z` reamins bounded, `c` is a member of the set. The image is colored by how many iterations it takes to determine that each pixel is *not* a member of the set.\n",
        "\n",
        "We use `px` and `py` to refer to the pixel locations on the rendered image, `x0` and `y0` (`c` above) to refer to the corresponding points in the complex plane. The `x` and `y` variables are used to represent the current value of `z` (above). The `shape` parameter corresponds to the size of the image, and the `bounds=((xmin, ymin), (xmax, ymax))` corresponds to patch of the complex plain being rendered."
      ],
      "metadata": {
        "id": "LUOLCiK1wFzN"
      }
    },
    {
      "cell_type": "code",
      "source": [
        "def mandelbrot_python(iterations=256, shape=(800, 800), bounds=((-2.0, -1.5), (1.0, 1.5))):\n",
        "    result = np.zeros(shape, np.uint)\n",
        "    x0s = np.linspace(bounds[0][0], bounds[1][0], shape[0])\n",
        "    y0s = np.linspace(bounds[0][1], bounds[1][1], shape[1])\n",
        "    for py, y0 in enumerate(y0s):\n",
        "        for px, x0 in enumerate(x0s):\n",
        "            x = 0\n",
        "            y = 0\n",
        "            for n in range(iterations):\n",
        "                x, y = x0 + x**2 - y**2, y0 + 2*x*y\n",
        "                if not x**2 + y**2 < 4:\n",
        "                    break\n",
        "                result[py][px] = n\n",
        "    return result"
      ],
      "metadata": {
        "id": "SqYnOlaovESS"
      },
      "execution_count": null,
      "outputs": []
    },
    {
      "cell_type": "code",
      "source": [
        "%timeit mandelbrot_python(10, shape=(100, 100))"
      ],
      "metadata": {
        "id": "hUVis5Y5wZAI"
      },
      "execution_count": null,
      "outputs": []
    },
    {
      "cell_type": "markdown",
      "source": [
        "Generate a picture with relatively few iterations."
      ],
      "metadata": {
        "id": "9WsA03AE9Iuq"
      }
    },
    {
      "cell_type": "code",
      "source": [
        "iter = 128\n",
        "img = mandelbrot_python(iter)"
      ],
      "metadata": {
        "id": "XPDiUqK2wmAB"
      },
      "execution_count": null,
      "outputs": []
    },
    {
      "cell_type": "markdown",
      "source": [
        "Show the picture using matplotlib. Notice that we transform it from the `0 - iter` range so that it is instead in the `1 - 0` range. This is in order to have the members of the set (point that did not escape after `iter` iterations) be the darkest colors (0).\n",
        "\n",
        "*Enjoy!*\n",
        "\n",
        "Try different colormaps (see [documentation](https://matplotlib.org/stable/users/explain/colors/colormaps.html) for valid strings, or try something an read the error message)."
      ],
      "metadata": {
        "id": "VmNCWvKN9NTy"
      }
    },
    {
      "cell_type": "code",
      "source": [
        "plt.figure(figsize=(10, 10))\n",
        "plt.imshow((iter - img) / iter, cmap=\"Spectral\", origin=\"lower\", extent=[-2, 1, -1.5, 1.5])\n",
        "plt.show()"
      ],
      "metadata": {
        "id": "Hjey7dG4wJgY"
      },
      "execution_count": null,
      "outputs": []
    },
    {
      "cell_type": "markdown",
      "source": [
        "## Workshop\n",
        "\n",
        "Complete the implementation of a Numpy implementation of the naïve escape time algorithm! The goal is to reduce the code to a single loop over `iterations`.\n",
        "\n",
        "You may see some warnings as some points diverge to infinity. These can be safely ignored.\n",
        "\n",
        "### Bonus task\n",
        "\n",
        "Can you speed it up even more and get rid of the warnings by only updating points that have not yet escaped?"
      ],
      "metadata": {
        "id": "v7US6pE1Ef9s"
      }
    },
    {
      "cell_type": "code",
      "source": [
        "def mandelbrot_numpy(iterations=256, shape=(800, 800), bounds=((-2.0, -1.5), (1.0, 1.5))):\n",
        "    result = np.zeros(shape, np.uint)\n",
        "    x0 = np.repeat(np.expand_dims(np.linspace(bounds[0][0], bounds[1][0], shape[0]), axis=0), shape[1], axis=0)\n",
        "    y0 = np.repeat(np.expand_dims(np.linspace(bounds[0][1], bounds[1][1], shape[1]), axis=1), shape[0], axis=1)\n",
        "    x = np.zeros(shape)\n",
        "    y = np.zeros(shape)\n",
        "    for n in range(iterations-1):\n",
        "        # Your code goes here\n",
        "    return result"
      ],
      "metadata": {
        "id": "tYqv_ClvvJSQ"
      },
      "execution_count": null,
      "outputs": []
    },
    {
      "cell_type": "markdown",
      "source": [
        "Nice speedup!"
      ],
      "metadata": {
        "id": "L9N1cbP8FyxR"
      }
    },
    {
      "cell_type": "code",
      "source": [
        "%timeit mandelbrot_numpy(10, shape=(100, 100))"
      ],
      "metadata": {
        "id": "zelCHlnTvOvw"
      },
      "execution_count": null,
      "outputs": []
    },
    {
      "cell_type": "markdown",
      "source": [
        "Now we can render a more precise image with more iterations!"
      ],
      "metadata": {
        "id": "9dR-L1nOF3-q"
      }
    },
    {
      "cell_type": "code",
      "source": [
        "iter = 1024\n",
        "img = mandelbrot_numpy(iter)"
      ],
      "metadata": {
        "id": "B4kBEJKxvQ8v"
      },
      "execution_count": null,
      "outputs": []
    },
    {
      "cell_type": "code",
      "source": [
        "plt.figure(figsize=(10, 10))\n",
        "plt.imshow((iter - img) / iter, cmap=\"Spectral\", origin=\"lower\", extent=[-2, 1, -1.5, 1.5])\n",
        "plt.show()"
      ],
      "metadata": {
        "id": "60W13akpvulb"
      },
      "execution_count": null,
      "outputs": []
    },
    {
      "cell_type": "markdown",
      "source": [
        "## Play around\n",
        "\n",
        "Try zooming in on boundary areas. You may have to increase the number of iterations as you zoom in."
      ],
      "metadata": {
        "id": "OVJuP57hF9eJ"
      }
    },
    {
      "cell_type": "code",
      "source": [
        "iter = 1024\n",
        "xmin, xmax = -0.750, -0.720\n",
        "ymin, ymax =  0.165,  0.195\n",
        "img = mandelbrot_numpy(iter, bounds=((xmin, ymin), (xmax, ymax)))"
      ],
      "metadata": {
        "id": "NeHtaepOxzkx"
      },
      "execution_count": null,
      "outputs": []
    },
    {
      "cell_type": "code",
      "source": [
        "plt.figure(figsize=(10, 10))\n",
        "plt.imshow((iter - img) / iter, cmap=\"inferno\", origin=\"lower\", extent=[xmin, xmax, ymin, ymax])\n",
        "plt.show()"
      ],
      "metadata": {
        "id": "R6u-ptSXyDvg"
      },
      "execution_count": null,
      "outputs": []
    }
  ]
}
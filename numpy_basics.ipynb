{
  "nbformat": 4,
  "nbformat_minor": 0,
  "metadata": {
    "colab": {
      "provenance": [],
      "authorship_tag": "ABX9TyOKGfZOlRe6/0gZyl4DWUh9",
      "include_colab_link": true
    },
    "kernelspec": {
      "name": "python3",
      "display_name": "Python 3"
    },
    "language_info": {
      "name": "python"
    }
  },
  "cells": [
    {
      "cell_type": "markdown",
      "metadata": {
        "id": "view-in-github",
        "colab_type": "text"
      },
      "source": [
        "<a href=\"https://colab.research.google.com/github/masaers/workshop-numpy/blob/main/numpy_basics.ipynb\" target=\"_parent\"><img src=\"https://colab.research.google.com/assets/colab-badge.svg\" alt=\"Open In Colab\"/></a>"
      ]
    },
    {
      "cell_type": "code",
      "execution_count": null,
      "metadata": {
        "id": "UwN8wps4BUaS"
      },
      "outputs": [],
      "source": [
        "import numpy as np\n",
        "import matplotlib.pyplot as plt"
      ]
    },
    {
      "cell_type": "markdown",
      "source": [
        "## Basic creation\n",
        "\n",
        "* Constructor with provided data.\n",
        "* Factory methods with shape.\n",
        "  * Linear spaces are very useful."
      ],
      "metadata": {
        "id": "DmfbiLHf9l6f"
      }
    },
    {
      "cell_type": "code",
      "source": [
        "np.array([0, 1, 2])"
      ],
      "metadata": {
        "id": "BBVsJNbnBmy7"
      },
      "execution_count": null,
      "outputs": []
    },
    {
      "cell_type": "code",
      "source": [
        "np.zeros([10])"
      ],
      "metadata": {
        "id": "jcpZAekMBqVr"
      },
      "execution_count": null,
      "outputs": []
    },
    {
      "cell_type": "code",
      "source": [
        "np.ones((4, 2))"
      ],
      "metadata": {
        "id": "jyboa6j-BtjT"
      },
      "execution_count": null,
      "outputs": []
    },
    {
      "cell_type": "code",
      "source": [
        "np.linspace(0, 1, 5)"
      ],
      "metadata": {
        "id": "4WDTFno2BxUk"
      },
      "execution_count": null,
      "outputs": []
    },
    {
      "cell_type": "markdown",
      "source": [
        "## Basic visualization\n",
        "\n",
        "* \"Graphing calculator\".\n",
        "* Linear space allows us to define the x-axis in the sine and cosine plot below.\n",
        "* Linear space allows us to define the underlying parameter in the unit circle below.\n",
        "* Matplotlib will assign colors automatically if not provided."
      ],
      "metadata": {
        "id": "7yPI16ai9-UP"
      }
    },
    {
      "cell_type": "code",
      "source": [
        "x = np.linspace(-np.pi, np.pi, 800)\n",
        "y = np.sin(x)\n",
        "plt.plot(x, y, color=\"blue\")\n",
        "plt.plot(x, np.cos(x), color=\"red\")\n",
        "plt.plot(np.cos(x), np.sin(x), color=\"green\")\n",
        "plt.show()"
      ],
      "metadata": {
        "id": "bUnHlkaJB0wD"
      },
      "execution_count": null,
      "outputs": []
    },
    {
      "cell_type": "markdown",
      "source": [
        "## Selection\n",
        "\n",
        "* Can use regular Python list-syntax to slice arrays.\n",
        "* Also generalizes to multiple dimensions/axes.\n",
        "* Can use Booleans to mask an array.\n",
        "\n",
        "Note that reshaping creates a view and not a copy."
      ],
      "metadata": {
        "id": "YKHVCikv_ETH"
      }
    },
    {
      "cell_type": "code",
      "source": [
        "a = np.linspace(0, 99, 100, dtype=np.uint)\n",
        "print(a[0:-1:10])\n",
        "print(a[::10])\n",
        "print(a[a % 10 == 0])\n",
        "b = np.reshape(a, (10, 10))\n",
        "print(b[::2, 1::5])"
      ],
      "metadata": {
        "id": "b7JVMX42otFR"
      },
      "execution_count": null,
      "outputs": []
    },
    {
      "cell_type": "markdown",
      "source": [
        "## Modify selection\n",
        "\n",
        "* We can modify only the values in a slice!\n",
        "* ... or even in a mask!"
      ],
      "metadata": {
        "id": "1JOWQA-w_3kV"
      }
    },
    {
      "cell_type": "code",
      "source": [
        "c = a.copy()\n",
        "c[::10] = c[::10] * 10\n",
        "print(c[::10]) # These are multiplied by 10\n",
        "print(c[1::10]) # These are not"
      ],
      "metadata": {
        "id": "o3hjFIzap75k"
      },
      "execution_count": null,
      "outputs": []
    },
    {
      "cell_type": "code",
      "source": [
        "d = b.copy()\n",
        "d[d % 9 == 0] = d[d % 9 == 0] * 10\n",
        "print(d)"
      ],
      "metadata": {
        "id": "OEHUFSkt5Axq"
      },
      "execution_count": null,
      "outputs": []
    }
  ]
}